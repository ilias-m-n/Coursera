{
 "cells": [
  {
   "cell_type": "markdown",
   "metadata": {},
   "source": [
    "# Risk Contributions and Risk Parity\n",
    "\n",
    "> The word 'risk' derives from the early Italian risicare, which means 'to dare'. In this sense, risk is a choice rather than a fate. The actions we dare to take, which depend on how free we are to make choices, are what the story of risk is all about.\n",
    "\n",
    "_Peter L. Bernstein, Against the Gods: The Remarkable Story of Risk_"
   ]
  },
  {
   "cell_type": "code",
   "execution_count": 7,
   "metadata": {},
   "outputs": [
    {
     "name": "stdout",
     "output_type": "stream",
     "text": [
      "The autoreload extension is already loaded. To reload it, use:\n",
      "  %reload_ext autoreload\n"
     ]
    }
   ],
   "source": [
    "import numpy as np\n",
    "import pandas as pd\n",
    "\n",
    "import kits.asset_mgmt_kit as amk\n",
    "\n",
    "%load_ext autoreload\n",
    "%autoreload 2\n",
    "inds = ['Food', 'Beer', 'Smoke', 'Games', 'Books', 'Hshld', 'Clths', 'Hlth',\n",
    "       'Chems', 'Txtls', 'Cnstr', 'Steel', 'FabPr', 'ElcEq', 'Autos', 'Carry',\n",
    "       'Mines', 'Coal', 'Oil', 'Util', 'Telcm', 'Servs', 'BusEq', 'Paper',\n",
    "       'Trans', 'Whlsl', 'Rtail', 'Meals', 'Fin', 'Other']\n",
    "inds=['Beer', 'Hlth', 'Fin','Rtail','Whlsl']\n",
    "ind_rets = amk.get_ind_returns(weighting=\"vw\", n_inds=49)[\"1974\":]\n",
    "ind_mcap = amk.get_ind_market_caps(49, weights=True)[\"1974\":]\n",
    "\n",
    "rets = ind_rets[\"2013\":][inds]\n",
    "cov = rets.cov()"
   ]
  },
  {
   "cell_type": "code",
   "execution_count": 8,
   "metadata": {},
   "outputs": [],
   "source": [
    "def risk_contribution(w,cov):\n",
    "    \"\"\"\n",
    "    Compute the contributions to risk of the constituents of a portfolio, given a set of portfolio weights and a covariance matrix\n",
    "    \"\"\"\n",
    "    total_portfolio_var = amk.portfolio_vol(w,cov)**2\n",
    "    # Marginal contribution of each constituent\n",
    "    marginal_contrib = cov@w\n",
    "    risk_contrib = np.multiply(marginal_contrib,w.T)/total_portfolio_var\n",
    "    return risk_contrib"
   ]
  },
  {
   "cell_type": "code",
   "execution_count": 9,
   "metadata": {},
   "outputs": [
    {
     "data": {
      "image/png": "[encoded data removed]",
      "text/plain": [
       "<Figure size 432x288 with 1 Axes>"
      ]
     },
     "metadata": {
      "needs_background": "light"
     },
     "output_type": "display_data"
    }
   ],
   "source": [
    "risk_contribution(amk.weight_ew(rets), cov).plot.bar(title=\"Risk Contributions of an EW portfolio\");"
   ]
  },
  {
   "cell_type": "code",
   "execution_count": 10,
   "metadata": {},
   "outputs": [],
   "source": [
    "from scipy.optimize import minimize\n",
    "\n",
    "def target_risk_contributions(target_risk, cov):\n",
    "    \"\"\"\n",
    "    Returns the weights of the portfolio that gives you the weights such\n",
    "    that the contributions to portfolio risk are as close as possible to\n",
    "    the target_risk, given the covariance matrix\n",
    "    \"\"\"\n",
    "    n = cov.shape[0]\n",
    "    init_guess = np.repeat(1/n, n)\n",
    "    bounds = ((0.0, 1.0),) * n # an N-tuple of 2-tuples!\n",
    "    # construct the constraints\n",
    "    weights_sum_to_1 = {'type': 'eq',\n",
    "                        'fun': lambda weights: np.sum(weights) - 1\n",
    "    }\n",
    "    def msd_risk(weights, target_risk, cov):\n",
    "        \"\"\"\n",
    "        Returns the Mean Squared Difference in risk contributions\n",
    "        between weights and target_risk\n",
    "        \"\"\"\n",
    "        w_contribs = risk_contribution(weights, cov)\n",
    "        return ((w_contribs-target_risk)**2).sum()\n",
    "    \n",
    "    weights = minimize(msd_risk, init_guess,\n",
    "                       args=(target_risk, cov), method='SLSQP',\n",
    "                       options={'disp': False},\n",
    "                       constraints=(weights_sum_to_1,),\n",
    "                       bounds=bounds)\n",
    "    return weights.x\n",
    "\n",
    "def equal_risk_contributions(cov):\n",
    "    \"\"\"\n",
    "    Returns the weights of the portfolio that equalizes the contributions\n",
    "    of the constituents based on the given covariance matrix\n",
    "    \"\"\"\n",
    "    n = cov.shape[0]\n",
    "    return target_risk_contributions(target_risk=np.repeat(1/n,n), cov=cov)\n"
   ]
  },
  {
   "cell_type": "code",
   "execution_count": 11,
   "metadata": {},
   "outputs": [
    {
     "data": {
      "image/png": "[encoded data removed]",
      "text/plain": [
       "<Figure size 432x288 with 1 Axes>"
      ]
     },
     "metadata": {
      "needs_background": "light"
     },
     "output_type": "display_data"
    }
   ],
   "source": [
    "risk_contribution(equal_risk_contributions(cov), cov).plot.bar(title=\"Risk Contributions of an ERC portfolio\");"
   ]
  },
  {
   "cell_type": "code",
   "execution_count": 12,
   "metadata": {},
   "outputs": [],
   "source": [
    "def weight_erc(r, cov_estimator=amk.sample_cov, **kwargs):\n",
    "    \"\"\"\n",
    "    Produces the weights of the ERC portfolio given a covariance matrix of the returns \n",
    "    \"\"\"\n",
    "    est_cov = cov_estimator(r, **kwargs)\n",
    "    return equal_risk_contributions(est_cov)\n"
   ]
  },
  {
   "cell_type": "code",
   "execution_count": 13,
   "metadata": {},
   "outputs": [
    {
     "data": {
      "text/html": [
       "<div>\n",
       "<style scoped>\n",
       "    .dataframe tbody tr th:only-of-type {\n",
       "        vertical-align: middle;\n",
       "    }\n",
       "\n",
       "    .dataframe tbody tr th {\n",
       "        vertical-align: top;\n",
       "    }\n",
       "\n",
       "    .dataframe thead th {\n",
       "        text-align: right;\n",
       "    }\n",
       "</style>\n",
       "<table border=\"1\" class=\"dataframe\">\n",
       "  <thead>\n",
       "    <tr style=\"text-align: right;\">\n",
       "      <th></th>\n",
       "      <th>Annualized Return</th>\n",
       "      <th>Annualized Vol</th>\n",
       "      <th>Skewness</th>\n",
       "      <th>Kurtosis</th>\n",
       "      <th>Cornish-Fisher VaR (5%)</th>\n",
       "      <th>Historic CVaR (5%)</th>\n",
       "      <th>Sharpe Ratio</th>\n",
       "      <th>Max Drawdown</th>\n",
       "    </tr>\n",
       "  </thead>\n",
       "  <tbody>\n",
       "    <tr>\n",
       "      <th>EW</th>\n",
       "      <td>0.121052</td>\n",
       "      <td>0.161000</td>\n",
       "      <td>-0.769256</td>\n",
       "      <td>6.572680</td>\n",
       "      <td>0.071993</td>\n",
       "      <td>0.103950</td>\n",
       "      <td>0.550248</td>\n",
       "      <td>-0.528292</td>\n",
       "    </tr>\n",
       "    <tr>\n",
       "      <th>CW</th>\n",
       "      <td>0.117028</td>\n",
       "      <td>0.149425</td>\n",
       "      <td>-0.703895</td>\n",
       "      <td>5.444447</td>\n",
       "      <td>0.066769</td>\n",
       "      <td>0.096505</td>\n",
       "      <td>0.566698</td>\n",
       "      <td>-0.518418</td>\n",
       "    </tr>\n",
       "  </tbody>\n",
       "</table>\n",
       "</div>"
      ],
      "text/plain": [
       "    Annualized Return  Annualized Vol  Skewness  Kurtosis  \\\n",
       "EW           0.121052        0.161000 -0.769256  6.572680   \n",
       "CW           0.117028        0.149425 -0.703895  5.444447   \n",
       "\n",
       "    Cornish-Fisher VaR (5%)  Historic CVaR (5%)  Sharpe Ratio  Max Drawdown  \n",
       "EW                 0.071993            0.103950      0.550248     -0.528292  \n",
       "CW                 0.066769            0.096505      0.566698     -0.518418  "
      ]
     },
     "execution_count": 13,
     "metadata": {},
     "output_type": "execute_result"
    },
    {
     "data": {
      "image/png": "[encoded data removed]",
      "text/plain": [
       "<Figure size 864x432 with 1 Axes>"
      ]
     },
     "metadata": {
      "needs_background": "light"
     },
     "output_type": "display_data"
    }
   ],
   "source": [
    "ewr = amk.backtest_ws(ind_rets, estimation_window=36, weighting=amk.weight_ew)\n",
    "cwr = amk.backtest_ws(ind_rets, estimation_window=36, weighting=amk.weight_cw, cap_weights=ind_mcap)\n",
    "btr = pd.DataFrame({\"EW\": ewr, \"CW\": cwr})\n",
    "(1+btr).cumprod().plot(figsize=(12,6), title=\"Industry Portfolios\")\n",
    "amk.summary_stats(btr.dropna())"
   ]
  },
  {
   "cell_type": "markdown",
   "metadata": {},
   "source": [
    "Now, let's run a backtest of this new weighting scheme we've just developed. Be warned that this will likely take quite some time to run - depending on your computer's CPU horsepower, but on my laptop it took several minutes."
   ]
  },
  {
   "cell_type": "code",
   "execution_count": 14,
   "metadata": {},
   "outputs": [
    {
     "data": {
      "text/html": [
       "<div>\n",
       "<style scoped>\n",
       "    .dataframe tbody tr th:only-of-type {\n",
       "        vertical-align: middle;\n",
       "    }\n",
       "\n",
       "    .dataframe tbody tr th {\n",
       "        vertical-align: top;\n",
       "    }\n",
       "\n",
       "    .dataframe thead th {\n",
       "        text-align: right;\n",
       "    }\n",
       "</style>\n",
       "<table border=\"1\" class=\"dataframe\">\n",
       "  <thead>\n",
       "    <tr style=\"text-align: right;\">\n",
       "      <th></th>\n",
       "      <th>Annualized Return</th>\n",
       "      <th>Annualized Vol</th>\n",
       "      <th>Skewness</th>\n",
       "      <th>Kurtosis</th>\n",
       "      <th>Cornish-Fisher VaR (5%)</th>\n",
       "      <th>Historic CVaR (5%)</th>\n",
       "      <th>Sharpe Ratio</th>\n",
       "      <th>Max Drawdown</th>\n",
       "    </tr>\n",
       "  </thead>\n",
       "  <tbody>\n",
       "    <tr>\n",
       "      <th>EW</th>\n",
       "      <td>0.121052</td>\n",
       "      <td>0.161000</td>\n",
       "      <td>-0.769256</td>\n",
       "      <td>6.572680</td>\n",
       "      <td>0.071993</td>\n",
       "      <td>0.103950</td>\n",
       "      <td>0.550248</td>\n",
       "      <td>-0.528292</td>\n",
       "    </tr>\n",
       "    <tr>\n",
       "      <th>CW</th>\n",
       "      <td>0.117028</td>\n",
       "      <td>0.149425</td>\n",
       "      <td>-0.703895</td>\n",
       "      <td>5.444447</td>\n",
       "      <td>0.066769</td>\n",
       "      <td>0.096505</td>\n",
       "      <td>0.566698</td>\n",
       "      <td>-0.518418</td>\n",
       "    </tr>\n",
       "    <tr>\n",
       "      <th>ERC-Sample</th>\n",
       "      <td>0.120185</td>\n",
       "      <td>0.149185</td>\n",
       "      <td>-0.872577</td>\n",
       "      <td>7.019237</td>\n",
       "      <td>0.066886</td>\n",
       "      <td>0.096357</td>\n",
       "      <td>0.588203</td>\n",
       "      <td>-0.502950</td>\n",
       "    </tr>\n",
       "  </tbody>\n",
       "</table>\n",
       "</div>"
      ],
      "text/plain": [
       "            Annualized Return  Annualized Vol  Skewness  Kurtosis  \\\n",
       "EW                   0.121052        0.161000 -0.769256  6.572680   \n",
       "CW                   0.117028        0.149425 -0.703895  5.444447   \n",
       "ERC-Sample           0.120185        0.149185 -0.872577  7.019237   \n",
       "\n",
       "            Cornish-Fisher VaR (5%)  Historic CVaR (5%)  Sharpe Ratio  \\\n",
       "EW                         0.071993            0.103950      0.550248   \n",
       "CW                         0.066769            0.096505      0.566698   \n",
       "ERC-Sample                 0.066886            0.096357      0.588203   \n",
       "\n",
       "            Max Drawdown  \n",
       "EW             -0.528292  \n",
       "CW             -0.518418  \n",
       "ERC-Sample     -0.502950  "
      ]
     },
     "execution_count": 14,
     "metadata": {},
     "output_type": "execute_result"
    },
    {
     "data": {
      "image/png": "[encoded data removed]",
      "text/plain": [
       "<Figure size 864x432 with 1 Axes>"
      ]
     },
     "metadata": {
      "needs_background": "light"
     },
     "output_type": "display_data"
    }
   ],
   "source": [
    "mv_erc_r = amk.backtest_ws(ind_rets, estimation_window=36, weighting=weight_erc, cov_estimator=amk.sample_cov)\n",
    "btr = pd.DataFrame({\"EW\": ewr, \"CW\": cwr, \"ERC-Sample\": mv_erc_r})\n",
    "(1+btr).cumprod().plot(figsize=(12,6), title=\"Industry Portfolios\")\n",
    "amk.summary_stats(btr.dropna())"
   ]
  },
  {
   "cell_type": "code",
   "execution_count": 15,
   "metadata": {},
   "outputs": [],
   "source": [
    "inds = ['Food', 'Beer', 'Smoke', 'Games', 'Books', 'Hshld', 'Clths', 'Hlth',\n",
    "       'Chems', 'Txtls', 'Cnstr', 'Steel', 'FabPr', 'ElcEq', 'Autos', 'Carry',\n",
    "       'Mines', 'Coal', 'Oil', 'Util', 'Telcm', 'Servs', 'BusEq', 'Paper',\n",
    "       'Trans', 'Whlsl', 'Rtail', 'Meals', 'Fin', 'Other']\n",
    "#inds=['Beer', 'Hlth', 'Fin','Rtail','Whlsl']\n",
    "ind_rets = amk.get_ind_returns(weighting=\"vw\", n_inds=49)[\"1974\":]\n",
    "ind_mcap = amk.get_ind_market_caps(49, weights=True)[\"1974\":]\n",
    "ind_mcap = ind_mcap[\"2014\":]\n",
    "\n",
    "rets = ind_rets[\"2014\":]\n",
    "cov = rets.cov()"
   ]
  },
  {
   "cell_type": "code",
   "execution_count": 16,
   "metadata": {},
   "outputs": [
    {
     "data": {
      "text/plain": [
       "Agric    0.003195\n",
       "Food     0.016964\n",
       "Soda     0.009687\n",
       "Beer     0.008478\n",
       "Smoke    0.012581\n",
       "Toys     0.001497\n",
       "Fun      0.007838\n",
       "Books    0.000974\n",
       "Hshld    0.020731\n",
       "Clths    0.009513\n",
       "Hlth     0.004713\n",
       "MedEq    0.013895\n",
       "Drugs    0.082970\n",
       "Chems    0.019345\n",
       "Rubbr    0.001834\n",
       "Txtls    0.000970\n",
       "BldMt    0.004366\n",
       "Cnstr    0.006153\n",
       "Steel    0.003572\n",
       "FabPr    0.000271\n",
       "Mach     0.023140\n",
       "ElcEq    0.005911\n",
       "Autos    0.013947\n",
       "Aero     0.013772\n",
       "Ships    0.000860\n",
       "Guns     0.002698\n",
       "Gold     0.000686\n",
       "Mines    0.003975\n",
       "Coal     0.000893\n",
       "Oil      0.075920\n",
       "Util     0.032890\n",
       "Telcm    0.054935\n",
       "PerSv    0.003217\n",
       "BusSv    0.019899\n",
       "Hardw    0.016487\n",
       "Softw    0.095938\n",
       "Chips    0.058337\n",
       "LabEq    0.012937\n",
       "Paper    0.010371\n",
       "Boxes    0.002065\n",
       "Trans    0.021903\n",
       "Whlsl    0.012734\n",
       "Rtail    0.067461\n",
       "Meals    0.015058\n",
       "Banks    0.087880\n",
       "Insur    0.040513\n",
       "RlEst    0.002009\n",
       "Fin      0.024015\n",
       "Other    0.050001\n",
       "Name: 2014-01, dtype: float64"
      ]
     },
     "execution_count": 16,
     "metadata": {},
     "output_type": "execute_result"
    }
   ],
   "source": [
    "c_weights = ind_mcap[\"2014\":].iloc[0]\n",
    "c_weights"
   ]
  },
  {
   "cell_type": "code",
   "execution_count": 17,
   "metadata": {},
   "outputs": [],
   "source": [
    "rc_cw = risk_contribution(c_weights, cov)"
   ]
  },
  {
   "cell_type": "code",
   "execution_count": 18,
   "metadata": {},
   "outputs": [
    {
     "data": {
      "text/plain": [
       "0.10406010634326317"
      ]
     },
     "execution_count": 18,
     "metadata": {},
     "output_type": "execute_result"
    }
   ],
   "source": [
    "rc_cw.max()"
   ]
  },
  {
   "cell_type": "code",
   "execution_count": 31,
   "metadata": {},
   "outputs": [],
   "source": [
    "rc_ew = risk_contribution(np.repeat(1/rets.shape[1],rets.shape[1]), cov) "
   ]
  },
  {
   "cell_type": "code",
   "execution_count": 34,
   "metadata": {},
   "outputs": [
    {
     "data": {
      "text/plain": [
       "0.030937663971181445"
      ]
     },
     "execution_count": 34,
     "metadata": {},
     "output_type": "execute_result"
    }
   ],
   "source": [
    "rc_ew.max()"
   ]
  },
  {
   "cell_type": "code",
   "execution_count": 35,
   "metadata": {},
   "outputs": [],
   "source": [
    "erc_weights = equal_risk_contributions(cov)"
   ]
  },
  {
   "cell_type": "code",
   "execution_count": 38,
   "metadata": {},
   "outputs": [],
   "source": [
    "erc_weights = pd.Series(erc_weights, rets.columns)"
   ]
  },
  {
   "cell_type": "code",
   "execution_count": 41,
   "metadata": {},
   "outputs": [
    {
     "data": {
      "text/plain": [
       "0.05215573493395749"
      ]
     },
     "execution_count": 41,
     "metadata": {},
     "output_type": "execute_result"
    }
   ],
   "source": [
    "erc_weights.max()"
   ]
  },
  {
   "cell_type": "code",
   "execution_count": 43,
   "metadata": {},
   "outputs": [
    {
     "data": {
      "text/plain": [
       "0.012809105063909448"
      ]
     },
     "execution_count": 43,
     "metadata": {},
     "output_type": "execute_result"
    }
   ],
   "source": [
    "erc_weights.min()"
   ]
  },
  {
   "cell_type": "code",
   "execution_count": 46,
   "metadata": {},
   "outputs": [
    {
     "data": {
      "text/plain": [
       "0.10396449439816839"
      ]
     },
     "execution_count": 46,
     "metadata": {},
     "output_type": "execute_result"
    }
   ],
   "source": [
    "rc_cw.max() - rc_cw.min()"
   ]
  },
  {
   "cell_type": "code",
   "execution_count": 47,
   "metadata": {},
   "outputs": [
    {
     "data": {
      "text/plain": [
       "0.02502175762491148"
      ]
     },
     "execution_count": 47,
     "metadata": {},
     "output_type": "execute_result"
    }
   ],
   "source": [
    "rc_ew.max() - rc_ew.min()"
   ]
  }
 ],
 "metadata": {
  "kernelspec": {
   "display_name": "Python 3 (ipykernel)",
   "language": "python",
   "name": "python3"
  },
  "language_info": {
   "codemirror_mode": {
    "name": "ipython",
    "version": 3
   },
   "file_extension": ".py",
   "mimetype": "text/x-python",
   "name": "python",
   "nbconvert_exporter": "python",
   "pygments_lexer": "ipython3",
   "version": "3.9.5"
  }
 },
 "nbformat": 4,
 "nbformat_minor": 4
}
