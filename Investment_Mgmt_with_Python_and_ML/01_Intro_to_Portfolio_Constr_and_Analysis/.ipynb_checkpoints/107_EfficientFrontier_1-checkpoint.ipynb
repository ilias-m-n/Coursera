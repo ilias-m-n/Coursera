{
 "cells": [
  {
   "cell_type": "markdown",
   "metadata": {},
   "source": [
    "# The Efficient Frontier - Part I\n",
    "\n",
    "We are going to compute the efficient frontier when we have a set of expected returns, volatilities (or variances) and correlations (or covariances). It's a fair question as to how we can get these numbers for the future, but for now, we'll assume that historic returns are a reasonable estimate. In future sections, we'll learn how to improve on it.\n",
    "\n",
    "Let's start by importing a new dataset. This is the Ken French dataset of the returns of 30 different industry portfolios. \n",
    "\n",
    "This datafile has a number of minor problems that we'll sort through as we go:\n"
   ]
  },
  {
   "cell_type": "code",
   "execution_count": 1,
   "metadata": {},
   "outputs": [],
   "source": [
    "import pandas as pd\n",
    "ind = pd.read_csv(\"data/ind30_m_vw_rets.csv\", header=0, index_col=0)/100\n",
    "ind.index = pd.to_datetime(ind.index, format=\"%Y%m\").to_period('M')"
   ]
  },
  {
   "cell_type": "code",
   "execution_count": 2,
   "metadata": {},
   "outputs": [
    {
     "data": {
      "text/html": [
       "<div>\n",
       "<style scoped>\n",
       "    .dataframe tbody tr th:only-of-type {\n",
       "        vertical-align: middle;\n",
       "    }\n",
       "\n",
       "    .dataframe tbody tr th {\n",
       "        vertical-align: top;\n",
       "    }\n",
       "\n",
       "    .dataframe thead th {\n",
       "        text-align: right;\n",
       "    }\n",
       "</style>\n",
       "<table border=\"1\" class=\"dataframe\">\n",
       "  <thead>\n",
       "    <tr style=\"text-align: right;\">\n",
       "      <th></th>\n",
       "      <th>Food</th>\n",
       "      <th>Beer</th>\n",
       "      <th>Smoke</th>\n",
       "      <th>Games</th>\n",
       "      <th>Books</th>\n",
       "      <th>Hshld</th>\n",
       "      <th>Clths</th>\n",
       "      <th>Hlth</th>\n",
       "      <th>Chems</th>\n",
       "      <th>Txtls</th>\n",
       "      <th>...</th>\n",
       "      <th>Telcm</th>\n",
       "      <th>Servs</th>\n",
       "      <th>BusEq</th>\n",
       "      <th>Paper</th>\n",
       "      <th>Trans</th>\n",
       "      <th>Whlsl</th>\n",
       "      <th>Rtail</th>\n",
       "      <th>Meals</th>\n",
       "      <th>Fin</th>\n",
       "      <th>Other</th>\n",
       "    </tr>\n",
       "  </thead>\n",
       "  <tbody>\n",
       "    <tr>\n",
       "      <th>1926-07</th>\n",
       "      <td>0.0056</td>\n",
       "      <td>-0.0519</td>\n",
       "      <td>0.0129</td>\n",
       "      <td>0.0293</td>\n",
       "      <td>0.1097</td>\n",
       "      <td>-0.0048</td>\n",
       "      <td>0.0808</td>\n",
       "      <td>0.0177</td>\n",
       "      <td>0.0814</td>\n",
       "      <td>0.0039</td>\n",
       "      <td>...</td>\n",
       "      <td>0.0083</td>\n",
       "      <td>0.0922</td>\n",
       "      <td>0.0206</td>\n",
       "      <td>0.0770</td>\n",
       "      <td>0.0193</td>\n",
       "      <td>-0.2379</td>\n",
       "      <td>0.0007</td>\n",
       "      <td>0.0187</td>\n",
       "      <td>0.0037</td>\n",
       "      <td>0.0520</td>\n",
       "    </tr>\n",
       "    <tr>\n",
       "      <th>1926-08</th>\n",
       "      <td>0.0259</td>\n",
       "      <td>0.2703</td>\n",
       "      <td>0.0650</td>\n",
       "      <td>0.0055</td>\n",
       "      <td>0.1001</td>\n",
       "      <td>-0.0358</td>\n",
       "      <td>-0.0251</td>\n",
       "      <td>0.0425</td>\n",
       "      <td>0.0550</td>\n",
       "      <td>0.0814</td>\n",
       "      <td>...</td>\n",
       "      <td>0.0217</td>\n",
       "      <td>0.0202</td>\n",
       "      <td>0.0439</td>\n",
       "      <td>-0.0238</td>\n",
       "      <td>0.0488</td>\n",
       "      <td>0.0539</td>\n",
       "      <td>-0.0075</td>\n",
       "      <td>-0.0013</td>\n",
       "      <td>0.0446</td>\n",
       "      <td>0.0676</td>\n",
       "    </tr>\n",
       "    <tr>\n",
       "      <th>1926-09</th>\n",
       "      <td>0.0116</td>\n",
       "      <td>0.0402</td>\n",
       "      <td>0.0126</td>\n",
       "      <td>0.0658</td>\n",
       "      <td>-0.0099</td>\n",
       "      <td>0.0073</td>\n",
       "      <td>-0.0051</td>\n",
       "      <td>0.0069</td>\n",
       "      <td>0.0533</td>\n",
       "      <td>0.0231</td>\n",
       "      <td>...</td>\n",
       "      <td>0.0241</td>\n",
       "      <td>0.0225</td>\n",
       "      <td>0.0019</td>\n",
       "      <td>-0.0554</td>\n",
       "      <td>0.0005</td>\n",
       "      <td>-0.0787</td>\n",
       "      <td>0.0025</td>\n",
       "      <td>-0.0056</td>\n",
       "      <td>-0.0123</td>\n",
       "      <td>-0.0386</td>\n",
       "    </tr>\n",
       "    <tr>\n",
       "      <th>1926-10</th>\n",
       "      <td>-0.0306</td>\n",
       "      <td>-0.0331</td>\n",
       "      <td>0.0106</td>\n",
       "      <td>-0.0476</td>\n",
       "      <td>0.0947</td>\n",
       "      <td>-0.0468</td>\n",
       "      <td>0.0012</td>\n",
       "      <td>-0.0057</td>\n",
       "      <td>-0.0476</td>\n",
       "      <td>0.0100</td>\n",
       "      <td>...</td>\n",
       "      <td>-0.0011</td>\n",
       "      <td>-0.0200</td>\n",
       "      <td>-0.0109</td>\n",
       "      <td>-0.0508</td>\n",
       "      <td>-0.0264</td>\n",
       "      <td>-0.1538</td>\n",
       "      <td>-0.0220</td>\n",
       "      <td>-0.0411</td>\n",
       "      <td>-0.0516</td>\n",
       "      <td>-0.0849</td>\n",
       "    </tr>\n",
       "    <tr>\n",
       "      <th>1926-11</th>\n",
       "      <td>0.0635</td>\n",
       "      <td>0.0729</td>\n",
       "      <td>0.0455</td>\n",
       "      <td>0.0166</td>\n",
       "      <td>-0.0580</td>\n",
       "      <td>-0.0054</td>\n",
       "      <td>0.0187</td>\n",
       "      <td>0.0542</td>\n",
       "      <td>0.0520</td>\n",
       "      <td>0.0311</td>\n",
       "      <td>...</td>\n",
       "      <td>0.0163</td>\n",
       "      <td>0.0377</td>\n",
       "      <td>0.0364</td>\n",
       "      <td>0.0384</td>\n",
       "      <td>0.0160</td>\n",
       "      <td>0.0467</td>\n",
       "      <td>0.0652</td>\n",
       "      <td>0.0433</td>\n",
       "      <td>0.0224</td>\n",
       "      <td>0.0400</td>\n",
       "    </tr>\n",
       "  </tbody>\n",
       "</table>\n",
       "<p>5 rows × 30 columns</p>\n",
       "</div>"
      ],
      "text/plain": [
       "          Food    Beer    Smoke   Games   Books   Hshld   Clths   Hlth   \\\n",
       "1926-07  0.0056 -0.0519  0.0129  0.0293  0.1097 -0.0048  0.0808  0.0177   \n",
       "1926-08  0.0259  0.2703  0.0650  0.0055  0.1001 -0.0358 -0.0251  0.0425   \n",
       "1926-09  0.0116  0.0402  0.0126  0.0658 -0.0099  0.0073 -0.0051  0.0069   \n",
       "1926-10 -0.0306 -0.0331  0.0106 -0.0476  0.0947 -0.0468  0.0012 -0.0057   \n",
       "1926-11  0.0635  0.0729  0.0455  0.0166 -0.0580 -0.0054  0.0187  0.0542   \n",
       "\n",
       "          Chems   Txtls  ...   Telcm   Servs   BusEq   Paper   Trans   Whlsl  \\\n",
       "1926-07  0.0814  0.0039  ...  0.0083  0.0922  0.0206  0.0770  0.0193 -0.2379   \n",
       "1926-08  0.0550  0.0814  ...  0.0217  0.0202  0.0439 -0.0238  0.0488  0.0539   \n",
       "1926-09  0.0533  0.0231  ...  0.0241  0.0225  0.0019 -0.0554  0.0005 -0.0787   \n",
       "1926-10 -0.0476  0.0100  ... -0.0011 -0.0200 -0.0109 -0.0508 -0.0264 -0.1538   \n",
       "1926-11  0.0520  0.0311  ...  0.0163  0.0377  0.0364  0.0384  0.0160  0.0467   \n",
       "\n",
       "          Rtail   Meals   Fin     Other  \n",
       "1926-07  0.0007  0.0187  0.0037  0.0520  \n",
       "1926-08 -0.0075 -0.0013  0.0446  0.0676  \n",
       "1926-09  0.0025 -0.0056 -0.0123 -0.0386  \n",
       "1926-10 -0.0220 -0.0411 -0.0516 -0.0849  \n",
       "1926-11  0.0652  0.0433  0.0224  0.0400  \n",
       "\n",
       "[5 rows x 30 columns]"
      ]
     },
     "execution_count": 2,
     "metadata": {},
     "output_type": "execute_result"
    }
   ],
   "source": [
    "ind.head()"
   ]
  },
  {
   "cell_type": "code",
   "execution_count": 3,
   "metadata": {},
   "outputs": [
    {
     "data": {
      "text/plain": [
       "Index(['Food ', 'Beer ', 'Smoke', 'Games', 'Books', 'Hshld', 'Clths', 'Hlth ',\n",
       "       'Chems', 'Txtls', 'Cnstr', 'Steel', 'FabPr', 'ElcEq', 'Autos', 'Carry',\n",
       "       'Mines', 'Coal ', 'Oil  ', 'Util ', 'Telcm', 'Servs', 'BusEq', 'Paper',\n",
       "       'Trans', 'Whlsl', 'Rtail', 'Meals', 'Fin  ', 'Other'],\n",
       "      dtype='object')"
      ]
     },
     "execution_count": 3,
     "metadata": {},
     "output_type": "execute_result"
    }
   ],
   "source": [
    "ind.columns"
   ]
  },
  {
   "cell_type": "markdown",
   "metadata": {},
   "source": [
    "Note that the column names have embedded spaces. We can strip out the leading and trailing spaces in the Series by using the `.str.strip` method."
   ]
  },
  {
   "cell_type": "code",
   "execution_count": 4,
   "metadata": {},
   "outputs": [],
   "source": [
    "ind.columns = ind.columns.str.strip()"
   ]
  },
  {
   "cell_type": "code",
   "execution_count": 5,
   "metadata": {},
   "outputs": [
    {
     "data": {
      "text/plain": [
       "(1110, 30)"
      ]
     },
     "execution_count": 5,
     "metadata": {},
     "output_type": "execute_result"
    }
   ],
   "source": [
    "ind.shape"
   ]
  },
  {
   "cell_type": "code",
   "execution_count": 6,
   "metadata": {},
   "outputs": [
    {
     "data": {
      "text/plain": [
       "(1110, 30)"
      ]
     },
     "execution_count": 6,
     "metadata": {},
     "output_type": "execute_result"
    }
   ],
   "source": [
    "%load_ext autoreload\n",
    "%autoreload 2\n",
    "%matplotlib inline\n",
    "\n",
    "import kits.asset_mgmt_kit as amk\n",
    "ind = amk.get_ind_returns()\n",
    "ind.shape"
   ]
  },
  {
   "cell_type": "code",
   "execution_count": 7,
   "metadata": {},
   "outputs": [
    {
     "data": {
      "text/plain": [
       "<AxesSubplot:>"
      ]
     },
     "execution_count": 7,
     "metadata": {},
     "output_type": "execute_result"
    },
    {
     "data": {
      "image/png": "[encoded data removed]",
      "text/plain": [
       "<Figure size 432x288 with 1 Axes>"
      ]
     },
     "metadata": {
      "needs_background": "light"
     },
     "output_type": "display_data"
    }
   ],
   "source": [
    "amk.drawdown(ind[\"Food\"])[\"dd\"].plot.line()"
   ]
  },
  {
   "cell_type": "code",
   "execution_count": 8,
   "metadata": {},
   "outputs": [
    {
     "data": {
      "text/plain": [
       "Food     0.172748\n",
       "Beer     0.348518\n",
       "Smoke    0.167500\n",
       "dtype: float64"
      ]
     },
     "execution_count": 8,
     "metadata": {},
     "output_type": "execute_result"
    }
   ],
   "source": [
    "amk.var_gaussian(ind[[\"Food\", \"Beer\", \"Smoke\"]], level=1, modified=True)"
   ]
  },
  {
   "cell_type": "code",
   "execution_count": 9,
   "metadata": {},
   "outputs": [
    {
     "data": {
      "text/plain": [
       "<AxesSubplot:>"
      ]
     },
     "execution_count": 9,
     "metadata": {},
     "output_type": "execute_result"
    },
    {
     "data": {
      "image/png": "[encoded data removed]",
      "text/plain": [
       "<Figure size 432x288 with 1 Axes>"
      ]
     },
     "metadata": {
      "needs_background": "light"
     },
     "output_type": "display_data"
    }
   ],
   "source": [
    "amk.var_gaussian(ind).sort_values().plot.bar()"
   ]
  },
  {
   "cell_type": "code",
   "execution_count": 10,
   "metadata": {},
   "outputs": [],
   "source": [
    "tmp = (pd.concat({\"SR\":amk.sharpe_ratio(ind, 0.03, 12), \"VaR\": amk.var_gaussian(ind, True)}, axis=1)).sort_values(by=\"SR\")"
   ]
  },
  {
   "cell_type": "code",
   "execution_count": 11,
   "metadata": {},
   "outputs": [
    {
     "data": {
      "text/html": [
       "<style  type=\"text/css\" >\n",
       "#T_893ce_row0_col0,#T_893ce_row0_col1{\n",
       "            background-color:  #a50026;\n",
       "            color:  #f1f1f1;\n",
       "        }#T_893ce_row1_col0{\n",
       "            background-color:  #da362a;\n",
       "            color:  #f1f1f1;\n",
       "        }#T_893ce_row1_col1{\n",
       "            background-color:  #fed481;\n",
       "            color:  #000000;\n",
       "        }#T_893ce_row2_col0{\n",
       "            background-color:  #e75337;\n",
       "            color:  #000000;\n",
       "        }#T_893ce_row2_col1{\n",
       "            background-color:  #ebf7a3;\n",
       "            color:  #000000;\n",
       "        }#T_893ce_row3_col0{\n",
       "            background-color:  #f47044;\n",
       "            color:  #000000;\n",
       "        }#T_893ce_row3_col1{\n",
       "            background-color:  #c3e67d;\n",
       "            color:  #000000;\n",
       "        }#T_893ce_row4_col0{\n",
       "            background-color:  #f98e52;\n",
       "            color:  #000000;\n",
       "        }#T_893ce_row4_col1{\n",
       "            background-color:  #e8f59f;\n",
       "            color:  #000000;\n",
       "        }#T_893ce_row5_col0{\n",
       "            background-color:  #fca85e;\n",
       "            color:  #000000;\n",
       "        }#T_893ce_row5_col1,#T_893ce_row11_col1{\n",
       "            background-color:  #dff293;\n",
       "            color:  #000000;\n",
       "        }#T_893ce_row6_col0,#T_893ce_row7_col0{\n",
       "            background-color:  #fdad60;\n",
       "            color:  #000000;\n",
       "        }#T_893ce_row6_col1{\n",
       "            background-color:  #fdb567;\n",
       "            color:  #000000;\n",
       "        }#T_893ce_row7_col1{\n",
       "            background-color:  #feffbe;\n",
       "            color:  #000000;\n",
       "        }#T_893ce_row8_col0{\n",
       "            background-color:  #fec877;\n",
       "            color:  #000000;\n",
       "        }#T_893ce_row8_col1,#T_893ce_row17_col0,#T_893ce_row23_col1{\n",
       "            background-color:  #d9ef8b;\n",
       "            color:  #000000;\n",
       "        }#T_893ce_row9_col0{\n",
       "            background-color:  #fed884;\n",
       "            color:  #000000;\n",
       "        }#T_893ce_row9_col1{\n",
       "            background-color:  #fff5ae;\n",
       "            color:  #000000;\n",
       "        }#T_893ce_row10_col0{\n",
       "            background-color:  #fedc88;\n",
       "            color:  #000000;\n",
       "        }#T_893ce_row10_col1{\n",
       "            background-color:  #c9e881;\n",
       "            color:  #000000;\n",
       "        }#T_893ce_row11_col0{\n",
       "            background-color:  #fffcba;\n",
       "            color:  #000000;\n",
       "        }#T_893ce_row12_col0{\n",
       "            background-color:  #fffdbc;\n",
       "            color:  #000000;\n",
       "        }#T_893ce_row12_col1{\n",
       "            background-color:  #fee593;\n",
       "            color:  #000000;\n",
       "        }#T_893ce_row13_col0,#T_893ce_row14_col1,#T_893ce_row15_col1{\n",
       "            background-color:  #f2faae;\n",
       "            color:  #000000;\n",
       "        }#T_893ce_row13_col1{\n",
       "            background-color:  #bde379;\n",
       "            color:  #000000;\n",
       "        }#T_893ce_row14_col0{\n",
       "            background-color:  #eef8a8;\n",
       "            color:  #000000;\n",
       "        }#T_893ce_row15_col0,#T_893ce_row16_col0{\n",
       "            background-color:  #e6f59d;\n",
       "            color:  #000000;\n",
       "        }#T_893ce_row16_col1,#T_893ce_row19_col1{\n",
       "            background-color:  #7dc765;\n",
       "            color:  #000000;\n",
       "        }#T_893ce_row17_col1{\n",
       "            background-color:  #3ca959;\n",
       "            color:  #000000;\n",
       "        }#T_893ce_row18_col0{\n",
       "            background-color:  #d7ee8a;\n",
       "            color:  #000000;\n",
       "        }#T_893ce_row18_col1,#T_893ce_row26_col0{\n",
       "            background-color:  #60ba62;\n",
       "            color:  #000000;\n",
       "        }#T_893ce_row19_col0,#T_893ce_row21_col1{\n",
       "            background-color:  #b7e075;\n",
       "            color:  #000000;\n",
       "        }#T_893ce_row20_col0{\n",
       "            background-color:  #b5df74;\n",
       "            color:  #000000;\n",
       "        }#T_893ce_row20_col1{\n",
       "            background-color:  #a0d669;\n",
       "            color:  #000000;\n",
       "        }#T_893ce_row21_col0{\n",
       "            background-color:  #a7d96b;\n",
       "            color:  #000000;\n",
       "        }#T_893ce_row22_col0{\n",
       "            background-color:  #a2d76a;\n",
       "            color:  #000000;\n",
       "        }#T_893ce_row22_col1{\n",
       "            background-color:  #8ecf67;\n",
       "            color:  #000000;\n",
       "        }#T_893ce_row23_col0{\n",
       "            background-color:  #98d368;\n",
       "            color:  #000000;\n",
       "        }#T_893ce_row24_col0,#T_893ce_row25_col0{\n",
       "            background-color:  #82c966;\n",
       "            color:  #000000;\n",
       "        }#T_893ce_row24_col1{\n",
       "            background-color:  #6ec064;\n",
       "            color:  #000000;\n",
       "        }#T_893ce_row25_col1{\n",
       "            background-color:  #63bc62;\n",
       "            color:  #000000;\n",
       "        }#T_893ce_row26_col1,#T_893ce_row29_col0{\n",
       "            background-color:  #006837;\n",
       "            color:  #f1f1f1;\n",
       "        }#T_893ce_row27_col0{\n",
       "            background-color:  #0b7d42;\n",
       "            color:  #f1f1f1;\n",
       "        }#T_893ce_row27_col1{\n",
       "            background-color:  #39a758;\n",
       "            color:  #000000;\n",
       "        }#T_893ce_row28_col0{\n",
       "            background-color:  #05713c;\n",
       "            color:  #f1f1f1;\n",
       "        }#T_893ce_row28_col1{\n",
       "            background-color:  #54b45f;\n",
       "            color:  #000000;\n",
       "        }#T_893ce_row29_col1{\n",
       "            background-color:  #036e3a;\n",
       "            color:  #f1f1f1;\n",
       "        }</style><table id=\"T_893ce_\" ><thead>    <tr>        <th class=\"blank level0\" ></th>        <th class=\"col_heading level0 col0\" >SR</th>        <th class=\"col_heading level0 col1\" >VaR</th>    </tr></thead><tbody>\n",
       "                <tr>\n",
       "                        <th id=\"T_893ce_level0_row0\" class=\"row_heading level0 row0\" >Coal</th>\n",
       "                        <td id=\"T_893ce_row0_col0\" class=\"data row0 col0\" >0.084275</td>\n",
       "                        <td id=\"T_893ce_row0_col1\" class=\"data row0 col1\" >0.240565</td>\n",
       "            </tr>\n",
       "            <tr>\n",
       "                        <th id=\"T_893ce_level0_row1\" class=\"row_heading level0 row1\" >Steel</th>\n",
       "                        <td id=\"T_893ce_row1_col0\" class=\"data row1 col0\" >0.126052</td>\n",
       "                        <td id=\"T_893ce_row1_col1\" class=\"data row1 col1\" >0.187121</td>\n",
       "            </tr>\n",
       "            <tr>\n",
       "                        <th id=\"T_893ce_level0_row2\" class=\"row_heading level0 row2\" >Whlsl</th>\n",
       "                        <td id=\"T_893ce_row2_col0\" class=\"data row2 col0\" >0.143494</td>\n",
       "                        <td id=\"T_893ce_row2_col1\" class=\"data row2 col1\" >0.161874</td>\n",
       "            </tr>\n",
       "            <tr>\n",
       "                        <th id=\"T_893ce_level0_row3\" class=\"row_heading level0 row3\" >Other</th>\n",
       "                        <td id=\"T_893ce_row3_col0\" class=\"data row3 col0\" >0.160862</td>\n",
       "                        <td id=\"T_893ce_row3_col1\" class=\"data row3 col1\" >0.149328</td>\n",
       "            </tr>\n",
       "            <tr>\n",
       "                        <th id=\"T_893ce_level0_row4\" class=\"row_heading level0 row4\" >Mines</th>\n",
       "                        <td id=\"T_893ce_row4_col0\" class=\"data row4 col0\" >0.177109</td>\n",
       "                        <td id=\"T_893ce_row4_col1\" class=\"data row4 col1\" >0.160586</td>\n",
       "            </tr>\n",
       "            <tr>\n",
       "                        <th id=\"T_893ce_level0_row5\" class=\"row_heading level0 row5\" >Books</th>\n",
       "                        <td id=\"T_893ce_row5_col0\" class=\"data row5 col0\" >0.192686</td>\n",
       "                        <td id=\"T_893ce_row5_col1\" class=\"data row5 col1\" >0.157477</td>\n",
       "            </tr>\n",
       "            <tr>\n",
       "                        <th id=\"T_893ce_level0_row6\" class=\"row_heading level0 row6\" >Games</th>\n",
       "                        <td id=\"T_893ce_row6_col0\" class=\"data row6 col0\" >0.194420</td>\n",
       "                        <td id=\"T_893ce_row6_col1\" class=\"data row6 col1\" >0.196048</td>\n",
       "            </tr>\n",
       "            <tr>\n",
       "                        <th id=\"T_893ce_level0_row7\" class=\"row_heading level0 row7\" >Txtls</th>\n",
       "                        <td id=\"T_893ce_row7_col0\" class=\"data row7 col0\" >0.194906</td>\n",
       "                        <td id=\"T_893ce_row7_col1\" class=\"data row7 col1\" >0.168994</td>\n",
       "            </tr>\n",
       "            <tr>\n",
       "                        <th id=\"T_893ce_level0_row8\" class=\"row_heading level0 row8\" >Trans</th>\n",
       "                        <td id=\"T_893ce_row8_col0\" class=\"data row8 col0\" >0.214624</td>\n",
       "                        <td id=\"T_893ce_row8_col1\" class=\"data row8 col1\" >0.155251</td>\n",
       "            </tr>\n",
       "            <tr>\n",
       "                        <th id=\"T_893ce_level0_row9\" class=\"row_heading level0 row9\" >Autos</th>\n",
       "                        <td id=\"T_893ce_row9_col0\" class=\"data row9 col0\" >0.227548</td>\n",
       "                        <td id=\"T_893ce_row9_col1\" class=\"data row9 col1\" >0.174024</td>\n",
       "            </tr>\n",
       "            <tr>\n",
       "                        <th id=\"T_893ce_level0_row10\" class=\"row_heading level0 row10\" >Cnstr</th>\n",
       "                        <td id=\"T_893ce_row10_col0\" class=\"data row10 col0\" >0.229351</td>\n",
       "                        <td id=\"T_893ce_row10_col1\" class=\"data row10 col1\" >0.150641</td>\n",
       "            </tr>\n",
       "            <tr>\n",
       "                        <th id=\"T_893ce_level0_row11\" class=\"row_heading level0 row11\" >FabPr</th>\n",
       "                        <td id=\"T_893ce_row11_col0\" class=\"data row11 col0\" >0.265297</td>\n",
       "                        <td id=\"T_893ce_row11_col1\" class=\"data row11 col1\" >0.157230</td>\n",
       "            </tr>\n",
       "            <tr>\n",
       "                        <th id=\"T_893ce_level0_row12\" class=\"row_heading level0 row12\" >Servs</th>\n",
       "                        <td id=\"T_893ce_row12_col0\" class=\"data row12 col0\" >0.267263</td>\n",
       "                        <td id=\"T_893ce_row12_col1\" class=\"data row12 col1\" >0.181250</td>\n",
       "            </tr>\n",
       "            <tr>\n",
       "                        <th id=\"T_893ce_level0_row13\" class=\"row_heading level0 row13\" >Fin</th>\n",
       "                        <td id=\"T_893ce_row13_col0\" class=\"data row13 col0\" >0.282243</td>\n",
       "                        <td id=\"T_893ce_row13_col1\" class=\"data row13 col1\" >0.147509</td>\n",
       "            </tr>\n",
       "            <tr>\n",
       "                        <th id=\"T_893ce_level0_row14\" class=\"row_heading level0 row14\" >Carry</th>\n",
       "                        <td id=\"T_893ce_row14_col0\" class=\"data row14 col0\" >0.285916</td>\n",
       "                        <td id=\"T_893ce_row14_col1\" class=\"data row14 col1\" >0.164681</td>\n",
       "            </tr>\n",
       "            <tr>\n",
       "                        <th id=\"T_893ce_level0_row15\" class=\"row_heading level0 row15\" >ElcEq</th>\n",
       "                        <td id=\"T_893ce_row15_col0\" class=\"data row15 col0\" >0.293063</td>\n",
       "                        <td id=\"T_893ce_row15_col1\" class=\"data row15 col1\" >0.164809</td>\n",
       "            </tr>\n",
       "            <tr>\n",
       "                        <th id=\"T_893ce_level0_row16\" class=\"row_heading level0 row16\" >Clths</th>\n",
       "                        <td id=\"T_893ce_row16_col0\" class=\"data row16 col0\" >0.293105</td>\n",
       "                        <td id=\"T_893ce_row16_col1\" class=\"data row16 col1\" >0.132146</td>\n",
       "            </tr>\n",
       "            <tr>\n",
       "                        <th id=\"T_893ce_level0_row17\" class=\"row_heading level0 row17\" >Util</th>\n",
       "                        <td id=\"T_893ce_row17_col0\" class=\"data row17 col0\" >0.306945</td>\n",
       "                        <td id=\"T_893ce_row17_col1\" class=\"data row17 col1\" >0.119185</td>\n",
       "            </tr>\n",
       "            <tr>\n",
       "                        <th id=\"T_893ce_level0_row18\" class=\"row_heading level0 row18\" >Hshld</th>\n",
       "                        <td id=\"T_893ce_row18_col0\" class=\"data row18 col0\" >0.307349</td>\n",
       "                        <td id=\"T_893ce_row18_col1\" class=\"data row18 col1\" >0.125741</td>\n",
       "            </tr>\n",
       "            <tr>\n",
       "                        <th id=\"T_893ce_level0_row19\" class=\"row_heading level0 row19\" >Oil</th>\n",
       "                        <td id=\"T_893ce_row19_col0\" class=\"data row19 col0\" >0.330358</td>\n",
       "                        <td id=\"T_893ce_row19_col1\" class=\"data row19 col1\" >0.131744</td>\n",
       "            </tr>\n",
       "            <tr>\n",
       "                        <th id=\"T_893ce_level0_row20\" class=\"row_heading level0 row20\" >Meals</th>\n",
       "                        <td id=\"T_893ce_row20_col0\" class=\"data row20 col0\" >0.332717</td>\n",
       "                        <td id=\"T_893ce_row20_col1\" class=\"data row20 col1\" >0.139766</td>\n",
       "            </tr>\n",
       "            <tr>\n",
       "                        <th id=\"T_893ce_level0_row21\" class=\"row_heading level0 row21\" >BusEq</th>\n",
       "                        <td id=\"T_893ce_row21_col0\" class=\"data row21 col0\" >0.342974</td>\n",
       "                        <td id=\"T_893ce_row21_col1\" class=\"data row21 col1\" >0.145770</td>\n",
       "            </tr>\n",
       "            <tr>\n",
       "                        <th id=\"T_893ce_level0_row22\" class=\"row_heading level0 row22\" >Chems</th>\n",
       "                        <td id=\"T_893ce_row22_col0\" class=\"data row22 col0\" >0.344903</td>\n",
       "                        <td id=\"T_893ce_row22_col1\" class=\"data row22 col1\" >0.135851</td>\n",
       "            </tr>\n",
       "            <tr>\n",
       "                        <th id=\"T_893ce_level0_row23\" class=\"row_heading level0 row23\" >Beer</th>\n",
       "                        <td id=\"T_893ce_row23_col0\" class=\"data row23 col0\" >0.351780</td>\n",
       "                        <td id=\"T_893ce_row23_col1\" class=\"data row23 col1\" >0.155154</td>\n",
       "            </tr>\n",
       "            <tr>\n",
       "                        <th id=\"T_893ce_level0_row24\" class=\"row_heading level0 row24\" >Rtail</th>\n",
       "                        <td id=\"T_893ce_row24_col0\" class=\"data row24 col0\" >0.364325</td>\n",
       "                        <td id=\"T_893ce_row24_col1\" class=\"data row24 col1\" >0.128443</td>\n",
       "            </tr>\n",
       "            <tr>\n",
       "                        <th id=\"T_893ce_level0_row25\" class=\"row_heading level0 row25\" >Paper</th>\n",
       "                        <td id=\"T_893ce_row25_col0\" class=\"data row25 col0\" >0.364722</td>\n",
       "                        <td id=\"T_893ce_row25_col1\" class=\"data row25 col1\" >0.126111</td>\n",
       "            </tr>\n",
       "            <tr>\n",
       "                        <th id=\"T_893ce_level0_row26\" class=\"row_heading level0 row26\" >Telcm</th>\n",
       "                        <td id=\"T_893ce_row26_col0\" class=\"data row26 col0\" >0.383294</td>\n",
       "                        <td id=\"T_893ce_row26_col1\" class=\"data row26 col1\" >0.098303</td>\n",
       "            </tr>\n",
       "            <tr>\n",
       "                        <th id=\"T_893ce_level0_row27\" class=\"row_heading level0 row27\" >Hlth</th>\n",
       "                        <td id=\"T_893ce_row27_col0\" class=\"data row27 col0\" >0.437783</td>\n",
       "                        <td id=\"T_893ce_row27_col1\" class=\"data row27 col1\" >0.118565</td>\n",
       "            </tr>\n",
       "            <tr>\n",
       "                        <th id=\"T_893ce_level0_row28\" class=\"row_heading level0 row28\" >Smoke</th>\n",
       "                        <td id=\"T_893ce_row28_col0\" class=\"data row28 col0\" >0.446361</td>\n",
       "                        <td id=\"T_893ce_row28_col1\" class=\"data row28 col1\" >0.123715</td>\n",
       "            </tr>\n",
       "            <tr>\n",
       "                        <th id=\"T_893ce_level0_row29\" class=\"row_heading level0 row29\" >Food</th>\n",
       "                        <td id=\"T_893ce_row29_col0\" class=\"data row29 col0\" >0.454770</td>\n",
       "                        <td id=\"T_893ce_row29_col1\" class=\"data row29 col1\" >0.100470</td>\n",
       "            </tr>\n",
       "    </tbody></table>"
      ],
      "text/plain": [
       "<pandas.io.formats.style.Styler at 0x2611d353280>"
      ]
     },
     "execution_count": 11,
     "metadata": {},
     "output_type": "execute_result"
    }
   ],
   "source": [
    "import matplotlib.pyplot as plt\n",
    "import matplotlib as mpl\n",
    "\n",
    "formatted_tmp = tmp.style.background_gradient(cmap=\"RdYlGn\", subset=[\"SR\"])\n",
    "formatted_tmp.background_gradient(cmap=\"RdYlGn_r\", subset=[\"VaR\"])\n",
    "\n",
    "formatted_tmp"
   ]
  },
  {
   "cell_type": "code",
   "execution_count": 12,
   "metadata": {},
   "outputs": [
    {
     "data": {
      "text/plain": [
       "<AxesSubplot:title={'center':'Industry Sharpe Ratios 1926-2018'}>"
      ]
     },
     "execution_count": 12,
     "metadata": {},
     "output_type": "execute_result"
    },
    {
     "data": {
      "image/png": "[encoded data removed]",
      "text/plain": [
       "<Figure size 432x288 with 1 Axes>"
      ]
     },
     "metadata": {
      "needs_background": "light"
     },
     "output_type": "display_data"
    }
   ],
   "source": [
    "amk.sharpe_ratio(ind, 0.03, 12).sort_values().plot.bar(title=\"Industry Sharpe Ratios 1926-2018\")"
   ]
  },
  {
   "cell_type": "code",
   "execution_count": 13,
   "metadata": {},
   "outputs": [
    {
     "data": {
      "text/plain": [
       "<AxesSubplot:title={'center':'Industry Sharpe Ratios since 2000'}>"
      ]
     },
     "execution_count": 13,
     "metadata": {},
     "output_type": "execute_result"
    },
    {
     "data": {
      "image/png": "[encoded data removed]",
      "text/plain": [
       "<Figure size 432x288 with 1 Axes>"
      ]
     },
     "metadata": {
      "needs_background": "light"
     },
     "output_type": "display_data"
    }
   ],
   "source": [
    "amk.sharpe_ratio(ind[\"2000\":], 0.03, 12).sort_values().plot.bar(title='Industry Sharpe Ratios since 2000')"
   ]
  },
  {
   "cell_type": "markdown",
   "metadata": {},
   "source": [
    "## Expected Returns and the Covariance Matrix\n",
    "\n",
    "Generating the efficient frontier requires a set of expected returns and a covariance matrix. For now, let's assume that we can estiamte these simply by looking back in time and naively assuming they will hold in the future. Clearly, they will not, but we will have plenty of time to dig into that in future lectures. For the moment, assume that our naive method of estimating these parameters will suffice.\n",
    "\n",
    "We can generate an estimate of expected returns using the `annualize_rets()` function, that returns a vector of expected returns. For instance, let's generate the set of expected returns based on historic returns from the 5 year period from 1996 through 2000:"
   ]
  },
  {
   "cell_type": "code",
   "execution_count": 14,
   "metadata": {},
   "outputs": [],
   "source": [
    "er = amk.annualize_rets(ind[\"1995\":\"2000\"], 12)"
   ]
  },
  {
   "cell_type": "code",
   "execution_count": 15,
   "metadata": {},
   "outputs": [
    {
     "data": {
      "text/plain": [
       "<AxesSubplot:>"
      ]
     },
     "execution_count": 15,
     "metadata": {},
     "output_type": "execute_result"
    },
    {
     "data": {
      "image/png": "[encoded data removed]",
      "text/plain": [
       "<Figure size 432x288 with 1 Axes>"
      ]
     },
     "metadata": {
      "needs_background": "light"
     },
     "output_type": "display_data"
    }
   ],
   "source": [
    "er.sort_values().plot.bar()"
   ]
  },
  {
   "cell_type": "markdown",
   "metadata": {},
   "source": [
    "Finally, let's generate the covariance matrix. Fortunately, this is easy enough to do using the `.cov` method:"
   ]
  },
  {
   "cell_type": "code",
   "execution_count": 16,
   "metadata": {},
   "outputs": [
    {
     "data": {
      "text/plain": [
       "(30, 30)"
      ]
     },
     "execution_count": 16,
     "metadata": {},
     "output_type": "execute_result"
    }
   ],
   "source": [
    "cov = ind[\"1995\":\"2000\"].cov()\n",
    "cov.shape"
   ]
  }
 ],
 "metadata": {
  "kernelspec": {
   "display_name": "Python 3 (ipykernel)",
   "language": "python",
   "name": "python3"
  },
  "language_info": {
   "codemirror_mode": {
    "name": "ipython",
    "version": 3
   },
   "file_extension": ".py",
   "mimetype": "text/x-python",
   "name": "python",
   "nbconvert_exporter": "python",
   "pygments_lexer": "ipython3",
   "version": "3.9.5"
  }
 },
 "nbformat": 4,
 "nbformat_minor": 2
}
